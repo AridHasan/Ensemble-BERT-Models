{
  "cells": [
    {
      "cell_type": "code",
      "execution_count": null,
      "metadata": {
        "id": "Vfp8eKT7TYwx"
      },
      "outputs": [],
      "source": [
        "!pip install datasets\n",
        "!pip install evaluate\n",
        "!pip install transformers\n",
        "!pip install sacremoses sentencepiece"
      ]
    },
    {
      "cell_type": "code",
      "execution_count": 2,
      "metadata": {
        "id": "0DrnEEMATYw1"
      },
      "outputs": [],
      "source": [
        "import csv\n",
        "import numpy as np\n",
        "import torch\n",
        "from torch.utils.data import Dataset, DataLoader\n",
        "from transformers import BertTokenizer, AutoTokenizer\n",
        "\n",
        "class EnsembleDataset(Dataset):\n",
        "    def __init__(self, text_data, labels, lang='en'):\n",
        "        self.text_data = text_data\n",
        "        self.labels = labels\n",
        "        self.bertar = AutoTokenizer.from_pretrained('aubmindlab/bert-base-arabertv02') # ArabicBERT\n",
        "        self.berten = AutoTokenizer.from_pretrained('roberta-base') # Loading bulgarian BERT\n",
        "        self.lang = lang\n",
        "        # lang_specific_model = lsm\n",
        "        self.lsm = {'ar': self.bertar,\n",
        "                    'en': self.berten\n",
        "                    }\n",
        "        self.mbert = AutoTokenizer.from_pretrained('bert-base-multilingual-uncased')\n",
        "        self.xlm_r = AutoTokenizer.from_pretrained('xlm-roberta-base')\n",
        "\n",
        "    def __len__(self):\n",
        "        return len(self.labels)\n",
        "\n",
        "    def __getitem__(self, index):\n",
        "        text = self.text_data[index]\n",
        "        #lang = text[0]\n",
        "        label = self.labels[index]\n",
        "        # tokenize text data\n",
        "        self_tok = self.lsm[self.lang].encode_plus(text, add_special_tokens=True,\n",
        "                                                   max_length=256, padding='max_length',\n",
        "                                                   return_attention_mask=True, truncation=True, return_tensors='pt')\n",
        "        mbert_tok = self.mbert.encode_plus(text, add_special_tokens=True,\n",
        "                                           max_length=256, padding='max_length',\n",
        "                                           return_attention_mask=True, truncation=True, return_tensors='pt')\n",
        "        \"\"\"\n",
        "        xlm_r_tok = self.xlm_r.encode_plus(text, add_special_tokens=True,\n",
        "                                           max_length=256, padding='max_length',\n",
        "                                           return_attention_mask=True, truncation=True, return_tensors='pt')\n",
        "        \"\"\"\n",
        "        fdata = (self_tok['input_ids'].squeeze(0), self_tok['attention_mask'].squeeze(0),\n",
        "                 mbert_tok['input_ids'].squeeze(0), mbert_tok['attention_mask'].squeeze(0), torch.tensor(label))\n",
        "        return fdata\n"
      ]
    },
    {
      "cell_type": "code",
      "execution_count": 3,
      "metadata": {
        "id": "DsNnUe4kTYw5"
      },
      "outputs": [],
      "source": [
        "import torch\n",
        "import torch.nn as nn\n",
        "import torch.optim as optim\n",
        "import torchvision.models as models\n",
        "from transformers import AutoModel\n",
        "\n",
        "# Define the Ensemble classification model\n",
        "class EnsembleClassifier(nn.Module):\n",
        "    def __init__(self, num_classes=3):\n",
        "        super(EnsembleClassifier, self).__init__()\n",
        "\n",
        "        #\"\"\"\n",
        "        self.bertar = AutoModel.from_pretrained('aubmindlab/bert-base-arabertv02') # ArabicBERT\n",
        "        self.berten = AutoModel.from_pretrained('roberta-base') # Loading RoBERTa for English\n",
        "\n",
        "        # lang_specific_model = lsm\n",
        "        self.lsm = {'ar': self.bertar,\n",
        "                    'en': self.berten\n",
        "                    }\n",
        "        #\"\"\"\n",
        "        self.lsm_drop = nn.Dropout(0.1) # language specific dropout\n",
        "        #self.lsm_fc = nn.Linear(768, 128) #for BERT=768\n",
        "\n",
        "        #multilingual BERT\n",
        "        self.mbert = AutoModel.from_pretrained('bert-base-multilingual-uncased')\n",
        "        self.mbert_drop = nn.Dropout(0.3)\n",
        "        #self.mbert_fc = nn.Linear(768, 128)\n",
        "        #\"\"\"\n",
        "        #XLM-R\n",
        "        #self.xlmr = AutoModel.from_pretrained('xlm-roberta-base')\n",
        "        #self.xlmr_drop = nn.Dropout(0.3)\n",
        "        #self.xlmr_fc = nn.Linear(768, 128)\n",
        "\n",
        "        # Fusion layer\n",
        "        self.fusion_fc = nn.Linear(768*2, 128)\n",
        "        \"\"\"\n",
        "        self.attention = torch.nn.TransformerEncoderLayer(d_model=128, nhead=8, batch_first=False, dropout=0.3)\n",
        "\n",
        "        self.classifier = nn.Sequential(nn.Dropout(),\n",
        "                                        nn.Linear(in_features=128, out_features=128),\n",
        "                                        nn.ReLU(inplace=True),\n",
        "                                        nn.Dropout(),\n",
        "                                        nn.Linear(in_features=128, out_features=num_classes))\n",
        "\n",
        "        \"\"\"\n",
        "        # Output layer\n",
        "        self.output_fc = nn.Linear(128, num_classes)\n",
        "        self.softmax = nn.Softmax(dim=1)\n",
        "\n",
        "        #self.post_init()\n",
        "\n",
        "    def forward(self, lang, in_1, attn_1, in_2, attn_2):\n",
        "        #print(labels)\n",
        "        #print(t1)\n",
        "        # Text input through BERT model\n",
        "        #l_model = self.lsm[en]\n",
        "        #print(lang)\n",
        "        lsm_output = self.lsm[lang](input_ids=in_1, attention_mask=attn_1)#return_dict=False\n",
        "        #if type(lsm_output) == tuple:\n",
        "        #    if len(lsm_output) > 1:\n",
        "        #        lsm_output = lsm_output[1]\n",
        "        #    else:\n",
        "        #        lsm_output = lsm_output[0]\n",
        "        lsm_output = self.lsm_drop(lsm_output.pooler_output)\n",
        "        #self.lsm_fc = nn.Linear(lsm_output.shape[1], 256) #for BERT=768\n",
        "        #lsm_output = self.lsm_fc(lsm_output)\n",
        "\n",
        "        mbert_output = self.mbert(in_2, attn_2) #output_hidden_states=True,return_dict=False\n",
        "        #print(mbert_output)\n",
        "        #mbert_output = mbert_output.hidden_states[1]\n",
        "        #mbert_output = mbert_output[:, -1, :]\n",
        "        mbert_output = self.mbert_drop(mbert_output.pooler_output)\n",
        "        #mbert_output = self.mbert_fc(mbert_output)\n",
        "\n",
        "        #_, xlmr_output = self.xlmr(t1, attention_mask=t1_m, return_dict=False)\n",
        "        #xlmr_output = self.xlmr_drop(xlmr_output)\n",
        "        #xlmr_output = self.xlmr_fc(xlmr_output)\n",
        "\n",
        "        # Concatenate the text and image features\n",
        "        features = torch.cat((lsm_output, lsm_output), dim=1) #\n",
        "        #features = torch.cat((mbert_output, bloomz_output), dim=1)\n",
        "        #features = torch.cat((mbert_output, mbert_output2), dim=1)\n",
        "\n",
        "        # Fusion layer\n",
        "        features = self.fusion_fc(features)\n",
        "\n",
        "        #features = self.attention(features)\n",
        "        # Output layer\n",
        "        #output = self.classifier(features)\n",
        "        output = self.output_fc(features)\n",
        "        output = self.softmax(output)\n",
        "\n",
        "        return output"
      ]
    },
    {
      "cell_type": "code",
      "execution_count": 4,
      "metadata": {
        "id": "9FeiPxXJTYw7"
      },
      "outputs": [],
      "source": [
        "import os\n",
        "def read_dataset(file_loc, delim=',', lang='en'):\n",
        "    #lang = []\n",
        "    #premise = []\n",
        "    #hypothesis = []\n",
        "    data = []\n",
        "    labels = []\n",
        "    with open(file_loc) as f:\n",
        "        reader = csv.reader(f, delimiter=delim)\n",
        "        next(reader)\n",
        "        i = 0\n",
        "        for row in reader:\n",
        "            #lang.append(row[0])\n",
        "            #premise.append(row[1])\n",
        "            #hypothesis.append(row[2])\n",
        "            data.append(row[1])\n",
        "            labels.append(int(row[2]))\n",
        "    return data, labels"
      ]
    },
    {
      "cell_type": "code",
      "execution_count": 5,
      "metadata": {
        "id": "g1V9kN4TTYw7"
      },
      "outputs": [],
      "source": [
        "from sklearn import metrics\n",
        "\n",
        "def calculate_performance(y_true, y_pred, labels):\n",
        "    \"\"\"\n",
        "    Calculating performances of our model\n",
        "    :param y_true: actual labels in test set\n",
        "    :param y_pred: predicted labels\n",
        "    :param labels:\n",
        "    :return: accuracy, precision, recall, f1 score and classification report\n",
        "    \"\"\"\n",
        "    (acc, P, R, F1) = (0.0, 0.0, 0.0, 0.0)\n",
        "    acc = metrics.accuracy_score(y_true, y_pred)\n",
        "    P = metrics.precision_score(y_true, y_pred, average='weighted')\n",
        "    R = metrics.recall_score(y_true, y_pred, average='weighted')\n",
        "    F1 = metrics.f1_score(y_true, y_pred, average='macro')\n",
        "    report = metrics.classification_report(y_true, y_pred, target_names=labels, digits=4)\n",
        "\n",
        "    return acc * 100, P * 100, R * 100, F1 * 100, report"
      ]
    },
    {
      "cell_type": "code",
      "execution_count": 6,
      "metadata": {
        "colab": {
          "base_uri": "https://localhost:8080/"
        },
        "id": "-w5_jQNjT2p-",
        "outputId": "c58f73a5-ad9a-499c-c73f-7734e43c424c"
      },
      "outputs": [
        {
          "output_type": "stream",
          "name": "stdout",
          "text": [
            "Mounted at /content/drive\n",
            "/content/drive/My Drive/cs6765\n",
            " A3\t\t\t\t       ensemble-ff\t\t     Sentiment-6765.ipynb\n",
            " arabert-ar\t\t\t      'ensemble of bert.ipynb'\t     test101\n",
            " bin\t\t\t\t       mbert-ar\t\t\t     test102\n",
            "'Calculate performace.ipynb'\t       mbert-en\t\t\t     xlm-ar\n",
            "'Copy of new_ensemble of bert.ipynb'  'new_ensemble of bert.ipynb'   xlm-en\n",
            " data\t\t\t\t       results\n",
            " ensemble_attn\t\t\t       robert-en\n"
          ]
        }
      ],
      "source": [
        "from google.colab import drive\n",
        "drive.mount('/content/drive')\n",
        "%cd /content/drive/My Drive/cs6765\n",
        "!ls"
      ]
    },
    {
      "cell_type": "code",
      "execution_count": 7,
      "metadata": {
        "id": "VHm5B2G9rr-1"
      },
      "outputs": [],
      "source": [
        "BATCH_SIZE = 20"
      ]
    },
    {
      "cell_type": "code",
      "execution_count": null,
      "metadata": {
        "id": "7tlgToVQTYw7"
      },
      "outputs": [],
      "source": [
        "#%cd ../1a_en/\n",
        "train_data_file = './data/english/train.csv'\n",
        "dev_data_file = './data/english/dev.csv'\n",
        "test_data_file = './data/english/test.csv'\n",
        "file_delim = ','\n",
        "train_data_file_ar = './data/arabic/train.csv'\n",
        "dev_data_file_ar = './data/arabic/dev.csv'\n",
        "test_data_file_ar = './data/arabic/test.csv'\n",
        "\n",
        "print(f\"Reading Train file: {train_data_file}\")\n",
        "en_data, en_labels = read_dataset(train_data_file, file_delim)\n",
        "en_train_dataset = EnsembleDataset(en_data, en_labels)\n",
        "en_train_dataset = torch.utils.data.DataLoader(en_train_dataset, batch_size=BATCH_SIZE, shuffle=True, drop_last=True)\n",
        "ar_data, ar_labels = read_dataset(train_data_file_ar, file_delim)\n",
        "ar_train_dataset = EnsembleDataset(ar_data, ar_labels, 'ar')\n",
        "ar_train_dataset = torch.utils.data.DataLoader(ar_train_dataset, batch_size=BATCH_SIZE, shuffle=True, drop_last=True)\n",
        "print(f'Total examples in arabic train set: {len(ar_data)}')\n",
        "print(f'Total examples in english train set: {len(en_data)}')\n",
        "\n",
        "\n",
        "print(f\"Reading Dev file: {dev_data_file}\")\n",
        "en_data, en_labels = read_dataset(dev_data_file, file_delim)\n",
        "en_dev_dataset = EnsembleDataset(en_data, en_labels)\n",
        "en_dev_dataset = torch.utils.data.DataLoader(en_dev_dataset, batch_size=BATCH_SIZE, shuffle=True, drop_last=True)\n",
        "ar_data, ar_labels = read_dataset(dev_data_file_ar, file_delim)\n",
        "ar_dev_dataset = EnsembleDataset(ar_data, ar_labels, 'ar')\n",
        "ar_dev_dataset = torch.utils.data.DataLoader(ar_dev_dataset, batch_size=BATCH_SIZE, shuffle=True, drop_last=True)\n",
        "\n",
        "\n",
        "print(f\"Reading Test file: {test_data_file}\")\n",
        "en_data, en_labels = read_dataset(test_data_file, file_delim)\n",
        "en_test_dataset = EnsembleDataset(en_data, en_labels)\n",
        "en_test_dataset = torch.utils.data.DataLoader(en_test_dataset, batch_size=BATCH_SIZE)\n",
        "ar_data, ar_labels = read_dataset(test_data_file_ar, file_delim)\n",
        "ar_test_dataset = EnsembleDataset(ar_data, ar_labels, 'ar')\n",
        "ar_test_dataset = torch.utils.data.DataLoader(ar_test_dataset, batch_size=BATCH_SIZE)\n",
        "ts_labels = en_labels + ar_labels\n",
        "\"\"\"\n",
        "train_dataset = EnsembleDataset(tr_data, tr_labels)\n",
        "train_dataset = torch.utils.data.DataLoader(train_dataset, batch_size=1, shuffle=True, drop_last=True)#,\n",
        "\n",
        "dev_dataset = EnsembleDataset(d_data, d_labels)\n",
        "dev_dataset = torch.utils.data.DataLoader(dev_dataset, batch_size=1, shuffle=True, drop_last=True)\n",
        "\n",
        "test_dataset = EnsembleDataset(ts_data, ts_labels)\n",
        "test_dataset = torch.utils.data.DataLoader(test_dataset, batch_size=1)\n",
        "#train_dataset = dev_dataset = test_dataset= []\n",
        "#print(train_loader.text_data)\n",
        "\"\"\"\n",
        "n=1"
      ]
    },
    {
      "cell_type": "code",
      "execution_count": null,
      "metadata": {
        "id": "hhykRoadTYw8"
      },
      "outputs": [],
      "source": [
        "import torch\n",
        "\n",
        "device = torch.device('cuda' if torch.cuda.is_available() else 'cpu')\n",
        "\n",
        "model = EnsembleClassifier(num_classes=3)\n",
        "\n",
        "model.to(device)"
      ]
    },
    {
      "cell_type": "code",
      "execution_count": 10,
      "metadata": {
        "id": "GR7pgDTz5RFz"
      },
      "outputs": [],
      "source": [
        "from torch import nn\n",
        "from torch import optim\n",
        "\n",
        "#criterion = nn.BCEWithLogitsLoss()\n",
        "criterion = nn.CrossEntropyLoss()\n",
        "optimizer = optim.Adam(model.parameters(), lr=2e-5)"
      ]
    },
    {
      "cell_type": "code",
      "execution_count": 11,
      "metadata": {
        "id": "CmGOeHE1TYw6"
      },
      "outputs": [],
      "source": [
        "import gc\n",
        "# Define the training and testing functions\n",
        "def train(model, train_loader, criterion, optimizer, device, lang='en'):\n",
        "    model.train()\n",
        "    train_loss = 0.0\n",
        "    correct = 0\n",
        "    i=1\n",
        "    for input_1, attn_1, input_2, attn_2, labels in train_loader:\n",
        "        #torch.cuda.empty_cache()\n",
        "        optimizer.zero_grad()\n",
        "        input_1 = input_1.to(device)\n",
        "        input_2 = input_2.to(device)\n",
        "        attn_1 = attn_1.to(device)\n",
        "        attn_2 = attn_2.to(device)\n",
        "        labels = labels.to(device)\n",
        "        output = model(lang, input_1, attn_1, input_2, attn_2)\n",
        "        loss = criterion(output, labels)\n",
        "        loss.backward()\n",
        "        optimizer.step()\n",
        "        train_loss += loss.item() * labels.size(0)\n",
        "        _, predicted = torch.max(output, 1)\n",
        "        correct += (predicted == labels).sum().item()\n",
        "        if i % 100 == 0:\n",
        "          loss, current = loss.item(), i * BATCH_SIZE\n",
        "          print(f'{current}/{len(train_loader.dataset)}\\tTrain Loss: {train_loss/(i*BATCH_SIZE):.3f} | Train Acc: {(correct/(i*BATCH_SIZE))*100:.2f}%')\n",
        "        i+=1\n",
        "        #gc.collect()\n",
        "    #train_loss /= len(train_loader.dataset)\n",
        "    #accuracy = correct / len(train_loader.dataset)\n",
        "    return train_loss, correct\n",
        "\n",
        "def test(model, test_loader, criterion, device, lang='en'):\n",
        "    model.eval()\n",
        "    test_loss = 0.0\n",
        "    correct = 0\n",
        "    with torch.no_grad():\n",
        "        for input_1, attn_1, input_2, attn_2, labels in test_loader:\n",
        "            #optimizer.zero_grad()\n",
        "            input_1 = input_1.to(device)\n",
        "            input_2 = input_2.to(device)\n",
        "            attn_1 = attn_1.to(device)\n",
        "            attn_2 = attn_2.to(device)\n",
        "            labels = labels.to(device)\n",
        "            output = model(lang, input_1, attn_1, input_2, attn_2)\n",
        "            loss = criterion(output, labels)\n",
        "            test_loss += loss.item() * labels.size(0)\n",
        "            _, predicted = torch.max(output, 1)\n",
        "            correct += (predicted == labels).sum().item()\n",
        "    #test_loss /= len(test_loader.dataset)\n",
        "    #accuracy = correct / len(test_loader.dataset)\n",
        "    return test_loss, correct\n",
        "\n",
        "def evaluate(model, test_loader, device, ep, g_labels, lang):\n",
        "    model.eval()\n",
        "    predictions = []\n",
        "    y_test_pred = []\n",
        "    if lang == 'en':\n",
        "      with torch.no_grad():\n",
        "          for input_1, attn_1, input_2, attn_2, labels in test_loader[0]:\n",
        "              #optimizer.zero_grad()\n",
        "              input_1 = input_1.to(device)\n",
        "              input_2 = input_2.to(device)\n",
        "              attn_1 = attn_1.to(device)\n",
        "              attn_2 = attn_2.to(device)\n",
        "              labels = labels.to(device)\n",
        "              output = model('en', input_1, attn_1, input_2, attn_2)\n",
        "              #print(output)\n",
        "              _, predicted = torch.max(output, 1)\n",
        "              predictions.append(predicted)\n",
        "      #print(predictions)\n",
        "      with open(f'./test101/output-pred_ep_{ep}.txt', 'w') as f:\n",
        "      for line in predictions:\n",
        "        for l in line.tolist():\n",
        "            y_test_pred.append(l)\n",
        "            f.write(str(l)+\"\\n\")\n",
        "    else:\n",
        "      with torch.no_grad():\n",
        "          for input_1, attn_1, input_2, attn_2, labels in test_loader[0]:\n",
        "              #optimizer.zero_grad()\n",
        "              input_1 = input_1.to(device)\n",
        "              input_2 = input_2.to(device)\n",
        "              attn_1 = attn_1.to(device)\n",
        "              attn_2 = attn_2.to(device)\n",
        "              labels = labels.to(device)\n",
        "              output = model('ar', input_1, attn_1, input_2, attn_2)\n",
        "              #print(output)\n",
        "              _, predicted = torch.max(output, 1)\n",
        "              predictions.append(predicted)\n",
        "      with open(f'./test102/output-pred_ep_{ep}.txt', 'w') as f:\n",
        "        for line in predictions:\n",
        "          for l in line.tolist():\n",
        "            #print(l)\n",
        "            y_test_pred.append(l)\n",
        "            f.write(str(l)+\"\\n\")\n",
        "    print(f'Printing Results for ***Epoch: {ep}***.......')\n",
        "    target_labels = list(set(g_labels)).sort()\n",
        "    y_true = g_labels\n",
        "    acc, precision, recall, F1, report = calculate_performance(y_true, y_test_pred, target_labels)\n",
        "    result = str(\"{0:.4f}\".format(acc)) + \"\\t\" + str(\"{0:.4f}\".format(precision)) + \"\\t\" + str(\n",
        "        \"{0:.4f}\".format(recall)) + \"\\t\" + str(\"{0:.4f}\".format(F1)) + \"\\n\"\n",
        "\n",
        "    print(\"Test set:\\t Acc\\tPrecision\\tRecall\\tF1\\n\" + result)\n",
        "    print(report)\n",
        "    return predictions"
      ]
    },
    {
      "cell_type": "markdown",
      "source": [
        "### English Data"
      ],
      "metadata": {
        "id": "T3ZVYtXVRzYn"
      }
    },
    {
      "cell_type": "code",
      "execution_count": null,
      "metadata": {
        "id": "KDVk2pQbJD7y"
      },
      "outputs": [],
      "source": [
        "# Train the model\n",
        "num_epochs = 3\n",
        "for epoch in range(0,num_epochs):\n",
        "    print(f'Epoch {epoch+1}/{num_epochs}')\n",
        "    en_train_loss, en_corr = train(model, en_train_dataset, criterion, optimizer, device,'en')\n",
        "    #ar_train_loss, ar_corr = train(model, ar_train_dataset, criterion, optimizer, device,'ar')\n",
        "    train_loss = (en_train_loss) / len(en_train_dataset.dataset)\n",
        "    #train_loss = (en_train_loss + ar_train_loss) / (len(en_train_dataset.dataset) + len(ar_train_dataset.dataset))\n",
        "    train_acc = (en_corr) / (len(en_train_dataset.dataset))\n",
        "    #train_acc = (en_corr + ar_corr) / (len(en_train_dataset.dataset) + len(ar_train_dataset.dataset))\n",
        "    en_dev_loss, en_corr = test(model, en_dev_dataset, criterion, device, 'en')\n",
        "    #ar_dev_loss, ar_corr = test(model, ar_dev_dataset, criterion, device, 'ar')\n",
        "    dev_loss = (en_dev_loss) / (len(en_dev_dataset.dataset))\n",
        "    #dev_loss = (en_dev_loss + ar_dev_loss) / (len(en_dev_dataset.dataset) + len(ar_dev_dataset.dataset))\n",
        "    dev_acc = (en_corr) / (len(en_dev_dataset.dataset))\n",
        "    #dev_acc = (en_corr + ar_corr) / (len(en_dev_dataset.dataset) + len(ar_dev_dataset.dataset))\n",
        "    print('Epoch {}/{}: Train Loss = {:.4f}, Accuracy = {:.4f}, Dev Loss = {:.4f}, Dev Accuracy = {:.4f}'.format(epoch+1, num_epochs, train_loss, train_acc, dev_loss, dev_acc))\n"
      ]
    },
    {
      "cell_type": "code",
      "source": [
        "test_prediction = evaluate(model, [en_test_dataset], device, epoch, en_labels, 'en')"
      ],
      "metadata": {
        "id": "00Stvg0CSX6A"
      },
      "execution_count": null,
      "outputs": []
    },
    {
      "cell_type": "markdown",
      "source": [
        "### Arabic Data"
      ],
      "metadata": {
        "id": "2ZwnMXA2R9ik"
      }
    },
    {
      "cell_type": "code",
      "execution_count": null,
      "metadata": {
        "id": "Ld9ZsQpwZkAT"
      },
      "outputs": [],
      "source": [
        "# Train the model\n",
        "num_epochs = 3\n",
        "for epoch in range(0,num_epochs):\n",
        "    print(f'Epoch {epoch+1}/{num_epochs}')\n",
        "    ar_train_loss, ar_corr = train(model, ar_train_dataset, criterion, optimizer, device,'ar')\n",
        "    train_loss = (ar_train_loss) / len(ar_train_dataset.dataset)\n",
        "    #train_loss = (en_train_loss + ar_train_loss) / (len(en_train_dataset.dataset) + len(ar_train_dataset.dataset))\n",
        "    train_acc = (ar_corr) / (len(ar_train_dataset.dataset))\n",
        "    #train_acc = (en_corr + ar_corr) / (len(en_train_dataset.dataset) + len(ar_train_dataset.dataset))\n",
        "    ar_dev_loss, ar_corr = test(model, ar_dev_dataset, criterion, device, 'en')\n",
        "    #ar_dev_loss, ar_corr = test(model, ar_dev_dataset, criterion, device, 'ar')\n",
        "    dev_loss = (ar_dev_loss) / (len(ar_dev_dataset.dataset))\n",
        "    #dev_loss = (en_dev_loss + ar_dev_loss) / (len(en_dev_dataset.dataset) + len(ar_dev_dataset.dataset))\n",
        "    dev_acc = (ar_corr) / (len(ar_dev_dataset.dataset))\n",
        "    #dev_acc = (en_corr + ar_corr) / (len(en_dev_dataset.dataset) + len(ar_dev_dataset.dataset))\n",
        "    print('Epoch {}/{}: Train Loss = {:.4f}, Accuracy = {:.4f}, Dev Loss = {:.4f}, Dev Accuracy = {:.4f}'.format(epoch+1, num_epochs, train_loss, train_acc, dev_loss, dev_acc))\n"
      ]
    },
    {
      "cell_type": "code",
      "source": [
        "test_prediction = evaluate(model, [ar_test_dataset], device, epoch, ar_labels, 'ar')"
      ],
      "metadata": {
        "id": "hafOUZvGSciu"
      },
      "execution_count": null,
      "outputs": []
    }
  ],
  "metadata": {
    "accelerator": "GPU",
    "colab": {
      "provenance": []
    },
    "kernelspec": {
      "display_name": "Python 3",
      "name": "python3"
    },
    "language_info": {
      "codemirror_mode": {
        "name": "ipython",
        "version": 3
      },
      "file_extension": ".py",
      "mimetype": "text/x-python",
      "name": "python",
      "nbconvert_exporter": "python",
      "pygments_lexer": "ipython3",
      "version": "3.10.12"
    }
  },
  "nbformat": 4,
  "nbformat_minor": 0
}