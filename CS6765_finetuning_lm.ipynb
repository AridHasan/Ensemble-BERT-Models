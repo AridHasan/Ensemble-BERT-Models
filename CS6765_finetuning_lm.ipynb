{
 "cells": [
  {
   "cell_type": "markdown",
   "metadata": {
    "id": "Al7KNNl-FJHA",
    "pycharm": {
     "name": "#%% md\n"
    }
   },
   "source": [
    "Intstalling Huggingface Transformers, Datasets, and Evaluate"
   ]
  },
  {
   "cell_type": "code",
   "execution_count": null,
   "metadata": {
    "id": "hBGVNisxFIJE",
    "pycharm": {
     "name": "#%%\n"
    }
   },
   "outputs": [],
   "source": [
    "!pip install transformers\n",
    "!pip install datasets\n",
    "!pip install evaluate"
   ]
  },
  {
   "cell_type": "code",
   "execution_count": null,
   "metadata": {
    "id": "kXVDAQ7iCkMA",
    "pycharm": {
     "name": "#%%\n"
    }
   },
   "outputs": [],
   "source": [
    "!pip install --upgrade accelerate"
   ]
  },
  {
   "cell_type": "markdown",
   "source": [
    "## Arabic Language"
   ],
   "metadata": {
    "id": "i4p6_zN8OGig",
    "pycharm": {
     "name": "#%% md\n"
    }
   }
  },
  {
   "cell_type": "markdown",
   "source": [
    "#### Run this cell to get the results for multilingual BERT model"
   ],
   "metadata": {
    "id": "KHYmXWvaN4V1",
    "pycharm": {
     "name": "#%% md\n"
    }
   }
  },
  {
   "cell_type": "code",
   "execution_count": null,
   "metadata": {
    "id": "hNKlO2KdOUj6",
    "pycharm": {
     "name": "#%%\n"
    }
   },
   "outputs": [],
   "source": [
    "!python bin/run_glue_v1.py \\\n",
    "  --model_name_or_path bert-base-multilingual-uncased \\\n",
    "  --train_file ./data/arabic/train.csv \\\n",
    "  --validation_file ./data/arabic/dev.csv \\\n",
    "  --test_file ./data/arabic/test.csv \\\n",
    "  --do_predict \\\n",
    "  --max_seq_length 256 \\\n",
    "  --per_device_train_batch_size 16 \\\n",
    "  --learning_rate 2e-5 \\\n",
    "  --num_train_epochs 3 \\\n",
    "  --output_dir ./mbert-ar/ \\\n",
    "  --do_eval \\\n",
    "  --do_train \\\n",
    "  --overwrite_output_dir"
   ]
  },
  {
   "cell_type": "markdown",
   "source": [
    "#### Run this cell to get the results for AraBERT v02 model"
   ],
   "metadata": {
    "id": "XqwWQy_jOJu7",
    "pycharm": {
     "name": "#%% md\n"
    }
   }
  },
  {
   "cell_type": "code",
   "source": [
    "!python bin/run_glue_v1.py \\\n",
    "  --model_name_or_path aubmindlab/bert-base-arabertv02 \\\n",
    "  --train_file ./data/arabic/train.csv \\\n",
    "  --validation_file ./data/arabic/dev.csv \\\n",
    "  --test_file ./data/arabic/test.csv \\\n",
    "  --do_predict \\\n",
    "  --max_seq_length 256 \\\n",
    "  --per_device_train_batch_size 16 \\\n",
    "  --learning_rate 2e-5 \\\n",
    "  --num_train_epochs 3 \\\n",
    "  --output_dir ./arabert-ar/ \\\n",
    "  --do_eval \\\n",
    "  --do_train \\\n",
    "  --overwrite_output_dir"
   ],
   "metadata": {
    "id": "16F--ysppPT6",
    "pycharm": {
     "name": "#%%\n"
    }
   },
   "execution_count": null,
   "outputs": []
  },
  {
   "cell_type": "markdown",
   "source": [
    "#### Run this cell to get the results for XLM-RoBERTa model"
   ],
   "metadata": {
    "id": "Yq0LLVD7OOOm",
    "pycharm": {
     "name": "#%% md\n"
    }
   }
  },
  {
   "cell_type": "code",
   "source": [
    "!python bin/run_glue_v1.py \\\n",
    "  --model_name_or_path xlm-roberta-base \\\n",
    "  --train_file ./data/arabic/train.csv \\\n",
    "  --validation_file ./data/arabic/dev.csv \\\n",
    "  --test_file ./data/arabic/test.csv \\\n",
    "  --do_predict \\\n",
    "  --max_seq_length 256 \\\n",
    "  --per_device_train_batch_size 16 \\\n",
    "  --learning_rate 2e-5 \\\n",
    "  --num_train_epochs 3 \\\n",
    "  --output_dir ./xlm-ar/ \\\n",
    "  --do_eval \\\n",
    "  --do_train \\\n",
    "  --overwrite_output_dir"
   ],
   "metadata": {
    "id": "YXjLOUPCoepF",
    "pycharm": {
     "name": "#%%\n"
    }
   },
   "execution_count": null,
   "outputs": []
  },
  {
   "cell_type": "markdown",
   "source": [
    "## English Language"
   ],
   "metadata": {
    "id": "qHgmUy9lOX1E",
    "pycharm": {
     "name": "#%% md\n"
    }
   }
  },
  {
   "cell_type": "markdown",
   "source": [
    "#### Run this cell to get the results for RoBERTa model"
   ],
   "metadata": {
    "id": "DPub46DYOZtj",
    "pycharm": {
     "name": "#%% md\n"
    }
   }
  },
  {
   "cell_type": "code",
   "source": [
    "!python bin/run_glue_v1.py \\\n",
    "  --model_name_or_path roberta-base \\\n",
    "  --train_file ./data/english/train.csv \\\n",
    "  --validation_file ./data/english/dev.csv \\\n",
    "  --test_file ./data/english/test.csv \\\n",
    "  --do_predict \\\n",
    "  --max_seq_length 256 \\\n",
    "  --per_device_train_batch_size 16 \\\n",
    "  --learning_rate 2e-5 \\\n",
    "  --num_train_epochs 3 \\\n",
    "  --output_dir ./robert-en/ \\\n",
    "  --do_eval \\\n",
    "  --do_train \\\n",
    "  --overwrite_output_dir"
   ],
   "metadata": {
    "id": "-1cF4f0SonCK",
    "pycharm": {
     "name": "#%%\n"
    }
   },
   "execution_count": null,
   "outputs": []
  },
  {
   "cell_type": "markdown",
   "source": [
    "#### Run this cell to get the results for multilingual BERT model"
   ],
   "metadata": {
    "id": "3Zn5Vy0AOcae",
    "pycharm": {
     "name": "#%% md\n"
    }
   }
  },
  {
   "cell_type": "code",
   "source": [
    "!python bin/run_glue_v1.py \\\n",
    "  --model_name_or_path bert-base-multilingual-uncased \\\n",
    "  --train_file ./data/english/train.csv \\\n",
    "  --validation_file ./data/english/dev.csv \\\n",
    "  --test_file ./data/english/test.csv \\\n",
    "  --do_predict \\\n",
    "  --max_seq_length 256 \\\n",
    "  --per_device_train_batch_size 16 \\\n",
    "  --learning_rate 2e-5 \\\n",
    "  --num_train_epochs 3 \\\n",
    "  --output_dir ./mbert-en/ \\\n",
    "  --do_eval \\\n",
    "  --do_train \\\n",
    "  --overwrite_output_dir"
   ],
   "metadata": {
    "id": "YMEJHOuVot_l",
    "pycharm": {
     "name": "#%%\n"
    }
   },
   "execution_count": null,
   "outputs": []
  },
  {
   "cell_type": "markdown",
   "source": [
    "#### Run this cell to get the results for XLM-RoBERTa-base model"
   ],
   "metadata": {
    "id": "7-ZH5qBvOeo6",
    "pycharm": {
     "name": "#%% md\n"
    }
   }
  },
  {
   "cell_type": "code",
   "source": [
    "!python bin/run_glue_v1.py \\\n",
    "  --model_name_or_path xlm-roberta-base \\\n",
    "  --train_file ./data/english/train.csv \\\n",
    "  --validation_file ./data/english/dev.csv \\\n",
    "  --test_file ./data/english/test.csv \\\n",
    "  --do_predict \\\n",
    "  --max_seq_length 256 \\\n",
    "  --per_device_train_batch_size 16 \\\n",
    "  --learning_rate 2e-5 \\\n",
    "  --num_train_epochs 3 \\\n",
    "  --output_dir ./xlm-en/ \\\n",
    "  --do_eval \\\n",
    "  --do_train \\\n",
    "  --overwrite_output_dir"
   ],
   "metadata": {
    "id": "yOxyGWCuqbJz",
    "pycharm": {
     "name": "#%%\n"
    }
   },
   "execution_count": null,
   "outputs": []
  }
 ],
 "metadata": {
  "accelerator": "GPU",
  "colab": {
   "machine_shape": "hm",
   "provenance": []
  },
  "kernelspec": {
   "display_name": "Python 3",
   "name": "python3"
  },
  "language_info": {
   "name": "python"
  }
 },
 "nbformat": 4,
 "nbformat_minor": 0
}